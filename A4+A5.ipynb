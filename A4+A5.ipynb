{
 "cells": [
  {
   "cell_type": "markdown",
   "id": "8e4431b0-a7d7-4f38-a445-1fe247e392b0",
   "metadata": {},
   "source": [
    "# Overview\n",
    "My first idea was to connect this class assignment for HCDE 410: Human Data Interaction with another HCDE class where I'm doing a project on technology, education, and the future. Due to this, my guiding idea had those key words and I came up with a guiding question of: **What are the changes in technology use in schools due to the COVID-19 pandemic?**\n",
    "\n",
    "## Motivation:\n",
    "For my final project in HCDE 419: Concepts In Human-Computer Interaction, I am writing a prediction piece for the future of K-12 education and technology. To further my understanding of how technology has changed, especially after the COVID-19 pandemic, moving everything online, I want to conduct my **own** analysis comparing the technology use in schools before and after the switch. \n",
    "\n",
    "This analysis will be particularly interesting as the data is during a major transformation in education, COVID-19 and the shift to online learning. I remember middle school doing problems on paper and my first year of high school, before COVID-19, the school had shifted to using Desmos slides to teach. Because of this, there was already more educational technology being used before the pandemic, and I want to see how technology has enhanced or hindered eduations as well as how COVID impacted technology use in schools.\n",
    "\n",
    "With what data I have found, I hope to learn how ten years of technology advancements have changed education and the way people learn or teach. This could reveal trends in how digital tools influenced student engagement, accessibility, and learning outcomes, and provide insight on future pathways of education. While this helps my own research interests and writing my paper for HCDE 419, I also welcome others interested in the trends of educational technology what future schooling could look like to use this research. \n",
    "\n",
    "## Research Questions & Hypotheses:\n",
    "Main Question based on datasets gathered: What are the changes in technology use in schools from 2009 to 2019-2020 school year (COVID)?\n",
    "\n",
    "Questions asked while looking for data and information:\n",
    "- What kind of technology was accessible before 2019 (COVID)?\n",
    "- How has technology been ingrained in the classroom? Teacher use? Student use?\n",
    "- How did COVID exacerbate the use of technology in school and in general?\n",
    "    - Where did it lead us with educational technology?"
   ]
  },
  {
   "cell_type": "markdown",
   "id": "b1120924-7525-4494-b568-1bf2c7420883",
   "metadata": {},
   "source": [
    "# Data selected for analysis: \n",
    "\n",
    "I am going to use the Institute of Education Sciences' reports on educational technology for the years of 2009 and 2019-20. These were the only two datasets that made sense to me that also had technology usage in schools within the time frame I wanted. I wanted to research something more specific, and these two reports were the closest I could find that I also had free access to:\n",
    "\n",
    "- [Teachers’ Use of Educational Technology in U.S. Public Schools: 2009](https://nces.ed.gov/pubs2010/2010040.pdf)\n",
    "- [Use of Educational Technology for Instruction in Public Schools: 2019—20](https://nces.ed.gov/pubs2021/2021017.pdf)\n",
    "\n",
    "License for both reports found on their copyright page:<br> \n",
    "\"NCES activities are designed to address high-priority education data needs; provide consistent, reliable, complete, and accurate indicators of education status and trends; and report timely, useful, and high-quality data to the U.S. Department of Education, the Congress, the states, other education policymakers, practitioners, data users, and the general public. **Unless specifically noted, all information contained herein is in the public domain.**\"\n",
    "\n",
    "As mentioned above, these datasets are what I could under my specific research goals and since I was able to find a dataset from before and during the COVID-19 I can accomplish my goal of comparing pre-pandemic and during-pandemic times of technology use. From my look-through of the two reports, the questions are not exact same, they account for what technology was accessible in each respective year. I think this would increase my ability to see the differences between technology usage in school and what was possible in the two different school years. The 2009 report is done through the teachers perspective, such as how the teacher providing technology to students: \"*Percent of teachers with computers...*\" while the 2019-20 report is based on the school perspective: \"*Percent of public schools reporting...*\" \n",
    "\n",
    "One ethical concern with the datasets I found is the accuracy of the 2009 report as it has different access to technology within schools. As I mentioned above, the data gathered aren't the exact same either because of what was possible in the technology realm in the different school years. These reports are also just for public schools/teachers, which could skew the data without private K-12 education and their access to technology throughout the years. "
   ]
  },
  {
   "cell_type": "markdown",
   "id": "467209c7-eaa6-4e38-b47f-cbc9432e6167",
   "metadata": {},
   "source": [
    "# Background and/or Related Work: \n",
    "From my dive into datasets relating to this topic as well as my research for HCDE 419, I have found people have studied the \"Condition of Education\" since 1989 [1]. These are annual reports required by U.S. Congress to help policymakers as well as the public to monitor the condition and progress of education in the United States. In more modern reports, the topics revolve more around the growth of technology and educational technology in schools. I decided to not use these reports which is discussed more in the **Unknown and Dependencies** section.\n",
    "\n",
    "For more studies centered technology and education, I have found the Horizon Reports, which seem to start in 2005, and track the trends of technology in education and predicts where it will go in the coming years. One of the publications I read for HCDE 419 was \"Identification and evaluation of technology trends in K‐12 education from 2011 to 2021,\" by Adam Kenneth Dubé and Run Wen, used these reports [2]. They compared what the trends and predictions in Horizon Reports to what actually happened surrounding actual research and publication about education technology. This study showed that the predictions were correct in the idea of mobile technology growing but hands-on maker spaces weren't used in schools like the report had suggested. \n",
    "\n",
    "Another study had found such digital technologies were used to help students mind map concepts learned in various school subjects [3]. The authors, Chun-Chun Chang, Gwo-Jen Hwang, and Yun-Fang Tu, found from 2001 and 2020, the use of mind maps and technologies to support the tool increased to personal and group learning. \n",
    "\n",
    "You can find [here](https://drive.google.com/file/d/1aP0KdsLODbQYU-URf3jeheFU4Qu4AU2j/view?usp=sharing) more of my research and sources for HCDE 419; however, these three sources were the most important for me to understand my topic and idea to pursue my own analysis. \n",
    "\n",
    "Since this analysis is an extension of another research project I have for another class, this is what informed my decision to create a quantitative study to gather more information about the topic. The sources I found to cite for that paper helped me come up with the guiding questions while looking for datasets to include. They also helped me to identify what I want to focus on, which is the technological change during COVID because there weren't many number-based technology usage before and after. The sources I could find for comparing the before and after were more qualitative on how people felt or their perception of technology growth [4]. "
   ]
  },
  {
   "cell_type": "markdown",
   "id": "47086146-3d6f-486b-b77f-929bbead749f",
   "metadata": {},
   "source": [
    "# Unknowns and dependencies: \n",
    "An unknown I have is the data on technology usage outside of 2009 and 2019-20 school year because the datasets I found had exactly what I wanted, but I couldn't find the same data for other years. This unknown could skew my data, as technology in classrooms in 2009 is very different from 2019 even if the COVID-19 pandemic did not occur. The growing popularity of computers and the shift to fully remote learning during COVID-19 significantly increased the need for and usage of technology.\n",
    "\n",
    "On Tuesday, November 5, 2024 16:41, I emailed the Institute of Education Sciences asking if they have any more reports involving technology and education that are also closer to the time frame of the pandemic since I couldn't find them on my own. My analysis is dependent on whether they respond and if they have more data that works for what I want to do. If they do not reply, I am considering to change my idea to compare the technology changes in schools within ten years to better fit with the data I have found (which is what I did).\n",
    "\n",
    "On Wednesday, November 6, 2024, 06:28, I got a reply with other sources relating to \"education technology/technology use in K-12 schools before and after the COVID-19 pandemic.\" For the morning of Wednesday, I went through the list of sources my contact suggested to me and I came to the conclusion of <span style=\"color: red;\">not</span> using them. I came to this stance because the reports she gave were more qualitative like what I found in my research for HCDE 419. I would much rather do a quantitative analysis because I am already doing a qualitative the other class. \n",
    "\n",
    "The National Center for Education Statistics’ [Condition of Education](https://nces.ed.gov/pubsearch/index.asp?PubSectionID=1&HasSearched=1&pubspagenum=1&sort=3&order=0&L1=&L2=&searchstring=condition+of+education&searchtype=AND&searchcat2=&searchcat=title&pagesize=15&searchmonth=1&searchyear=1989&datetype=%3E%3D&pubtype=&surveyname=&surveyid=&centername=NCES&center=NCES) source she suggested to me was the best alternative option to use. These reports are published yearly on the trends and statistics of all levels of education. While I am not opposed to using these papers, they either already compare education data for different years or have data from two years earlier than the publication date. For example, the newest report from 2024, look at years 2022 and earlier. \n",
    "\n",
    "Due to dependency on what each report discloses and my want to do a quantitative analysis, I may have to only use the sources I have written about in the section above.   "
   ]
  },
  {
   "cell_type": "markdown",
   "id": "b6158364-5a48-4962-818f-ec9a972a3cea",
   "metadata": {},
   "source": [
    "# Methodology: Describe how you plan to investigate this phenomenon.\n",
    "One of the sources I reviewed in the Annotated Bibliography assignment for HCDE 419, had compared two survey results with differing questions and I use this as a guide for my own analysis. Since the two datasets that I am using have slightly different questions due to the access of technology and what schools provided in each year, I want to compare them based on similarity with different x-values as they differ. The datasets I want to include are listed below but subject to change as I get more familiarized with each report.\n",
    "\n",
    "- Student access to computers at school: Both datasets have either a ratio or number of computers per student which are categorized based on eligibility on free/reduced lunch, community type, and enrollment size. Since this is more similar, I may do a T-Test on this to see how significantly different it is.\n",
    "  - 2009 Dataset: Page 5 (doc-labeled) under \"Total computers (in or can be brought into the classroom), second column\"\n",
    "  - 2019-20 Dataset: Page 15 (Google Drive labeled) under \"Number of students per computer\"\n",
    "- Technology Devices Used: Each dataset has a list of what I assume should be avaibility to used in each school and then either how teachers or schools are providing the tools to the students. This is very different between both reports and thus won't use an analysis on this but provide a graph for both years to show what was the most accessible to students.\n",
    "  - 2009 Dataset: Table 3, Page 17 (Google Drive labeled)\n",
    "  - 2019-20 Dataset: Table A-4, Page 19 (Google Drive labeled)\n",
    "Looking through the reports and data in each, I have discovered the data is very hard to compare because they don't ask super similar questions. With the three datasets I have listed above, they are what I can easily compare. I also want to try and include Table 7 in the 2009 report as it has what students are using the computers for; I have not come across a similar data table in 2019-20 report to compare, but I will keep looking as well as outsource this information if it's not possible to find in the report I have. \n",
    "\n",
    "I'm not sure exactly how this will work since the data isn't exactly the same across the two reports; however I know it will work out in the end as such comparisons have happened before. I just need to make sure the results I get are clear that the starting data was different because of the differening in years. \n",
    "\n",
    "As for presenting my findings, I am thinking along the lines of bar charts to show the amount of technology from year 2009 and 2019-20. I have grown to learn that they are the best way to show a comparison between differing data. I am still grappling with the idea of adding error bars or showing more of the distrubtion of the analysis. I think this will be included if my results require more infomation in coveying what my takeways are. \n",
    "\n",
    "I chose these methods because it has seemed to work in the past when comparing slightly different data as I am dealing with. Secondly, as I said, I believe bar charts are the easiest way to see how such data is different in a quick glance and then more understanding happens the more time looking at it. "
   ]
  },
  {
   "cell_type": "markdown",
   "id": "95552248-a91c-455b-8124-128eb71538a6",
   "metadata": {},
   "source": [
    "# Endnotes\n",
    "1. [National Center for Education Statistics’ Condition of Education Yearly Reports](https://nces.ed.gov/pubsearch/index.asp?PubSectionID=1&HasSearched=1&pubspagenum=1&sort=3&order=0&L1=&L2=&searchstring=condition+of+education&pagesize=100&searchtype=AND&searchcat2=&searchcat=title&searchmonth=1&searchyear=1989&datetype=ge&pubtype=&surveyname=&surveyid=&centername=NCES&center=NCES)\n",
    "2. Dubé, Adam Kenneth, and Run Wen. “Identification and evaluation of technology trends in K-12\n",
    "education from 2011 to 2021.” Education and Information Technologies, vol. 27, no. 2, 6\n",
    "Aug. 2021, pp. 1929–1958, https://doi.org/10.1007/s10639-021-10689-8.\n",
    "3. Chang, C.-C., Hwang, G.-J., & Tu, Y.-F. (2022). Concept mapping in technology-supported K-12\n",
    "education: A systematic review of selected SSCI publications from 2001 to 2020. Journal\n",
    "of Educational Computing Research, 60(7), 1637–1662.\n",
    "https://doi.org/10.1177/07356331211073798\n",
    "4. [Annotated Bibliography for HCDE 419](https://drive.google.com/file/d/1aP0KdsLODbQYU-URf3jeheFU4Qu4AU2j/view?usp=sharing)"
   ]
  }
 ],
 "metadata": {
  "kernelspec": {
   "display_name": "Python 3 (ipykernel)",
   "language": "python",
   "name": "python3"
  },
  "language_info": {
   "codemirror_mode": {
    "name": "ipython",
    "version": 3
   },
   "file_extension": ".py",
   "mimetype": "text/x-python",
   "name": "python",
   "nbconvert_exporter": "python",
   "pygments_lexer": "ipython3",
   "version": "3.10.13"
  }
 },
 "nbformat": 4,
 "nbformat_minor": 5
}
