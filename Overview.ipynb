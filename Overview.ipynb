{
 "cells": [
  {
   "cell_type": "markdown",
   "id": "8e4431b0-a7d7-4f38-a445-1fe247e392b0",
   "metadata": {},
   "source": [
    "# Overview:\n",
    "This is a final class project for HCDE 410: Human Data Interaction. The assignment was to come up with a research project in an area of my choosing and do an analysis on that topic. I decided to work in the area of education and technology and how technology has changed over the evolution of computers. \n",
    "\n",
    "## Motivation:\n",
    "For my final project in HCDE 419: Concepts In Human-Computer Interaction, I am writing a prediction piece for the future of K-12 education and technology. To further my understanding of how technology has changed, especially after the COVID-19 pandemic, moving everything online, I want to conduct my **own** analysis comparing the technology use in schools before and after the switch. \n",
    "\n",
    "This analysis will be particularly interesting as the data is during a major transformation in education, COVID-19 and the shift to online learning. I remember middle school doing problems on paper and my first year of high school, before COVID-19, the school had already started integrating computers into schools; each student had a computer of their own for the school year from the school. There was already more educational technology being used before the pandemic, and I want to see how technology has enhanced or hindered learning.\n",
    "\n",
    "With the data I have found, I hope to learn how ten years of technological advancements have changed education and the way people learn or teach. This could reveal trends in how digital tools influenced student engagement, accessibility, learning outcomes, and provide insight on future pathways of education. While this helps my own research interests and writing my paper for my other class, I also welcome others interested in the trends of educational technology and what future schooling could look like to use this research. \n",
    "\n",
    "## Research Question:\n",
    "Main Question based on datasets gathered: <b>What are the changes in technology use in schools from 2009 to 2019-2020 school year</b>?\n",
    "\n",
    "Questions asked while looking for data and information:\n",
    "- What kind of technology was accessible before 2019 (COVID)?\n",
    "- How has technology been ingrained in the classroom? Teacher use? Student use?\n",
    "- How did COVID exacerbate the use of technology in school and in general?\n",
    "    - Where did it lead us with educational technology?"
   ]
  },
  {
   "cell_type": "markdown",
   "id": "b1120924-7525-4494-b568-1bf2c7420883",
   "metadata": {},
   "source": [
    "# Data selected for analysis: \n",
    "\n",
    "I used the Institute of Education Sciences' reports on educational technology for the years of 2009 and 2019-20. These were the only two datasets that made sense to me that also had technology usage in schools within the time frame I wanted. I wanted to research something more specific (technology changes during the COVID-19 pandemic), and these two reports were the closest I could find that I also had free access to:\n",
    "\n",
    "- [Teachers’ Use of Educational Technology in U.S. Public Schools: 2009](https://nces.ed.gov/pubs2010/2010040.pdf)\n",
    "- [Use of Educational Technology for Instruction in Public Schools: 2019—20](https://nces.ed.gov/pubs2021/2021017.pdf)\n",
    "\n",
    "License for both reports found on their copyright page:<br> \n",
    "\"NCES activities are designed to address high-priority education data needs; provide consistent, reliable, complete, and accurate indicators of education status and trends; and report timely, useful, and high-quality data to the U.S. Department of Education, the Congress, the states, other education policymakers, practitioners, data users, and the general public. **Unless specifically noted, all information contained herein is in the public domain.**\"\n",
    "\n",
    "As mentioned above, these datasets are what I could find under my specific research goals. From my first look-through of the two reports, the questions are not exactly the same, they account for what technology was accessible in each respective year. I think this would increase my ability to see the differences between technology usage in school and what was possible in the two different school years. \n",
    "\n",
    "The 2009 report is done through the teachers perspective, such as how the teacher providing technology to students: \"*Percent of teachers with computers...*\" while the 2019-20 report is based on the school perspective: \"*Percent of public schools reporting...*\" \n",
    "\n",
    "One ethical concern with the datasets I found is the accuracy of the 2009 report as it has different access to technology within schools. As I mentioned above, the data gathered aren't the exact same either because of what was possible in the technology realm in the different school years. These reports are also just for public schools/teachers, which could skew the data without private K-12 education and their access to technology throughout the years. "
   ]
  },
  {
   "cell_type": "markdown",
   "id": "467209c7-eaa6-4e38-b47f-cbc9432e6167",
   "metadata": {},
   "source": [
    "# Background and/or Related Work: \n",
    "From my dive into datasets relating to this topic as well as my research for HCDE 419, I have found people have studied the \"Condition of Education\" since 1989 [1]. These are annual reports required by the U.S. Congress to help policymakers as well as the public to monitor the condition and progress of education in the United States. In more modern reports, the topics revolve more around the growth of technology and educational technology in schools. I decided to not use these reports which is discussed more in the **Unknown and Dependencies** section.\n",
    "\n",
    "For more studies centered on technology and education, I have found the Horizon Reports, which seem to start in 2005, and track the trends of technology in education and predict where it will go in the coming years. One of the publications I read for my paper was \"Identification and evaluation of technology trends in K‐12 education from 2011 to 2021,\" by Adam Kenneth Dubé and Run Wen, using these reports [2]. They compared the trends and predictions in Horizon Reports to what actually happened surrounding actual research and publication about education technology. This study showed that the predictions were accurate in the idea of mobile technology growing but hands-on maker spaces weren't used in schools like the report had suggested. \n",
    "\n",
    "Another study had found such digital technologies were used to help students mind map concepts learned in various school subjects [3]. The authors, Chun-Chun Chang, Gwo-Jen Hwang, and Yun-Fang Tu, found from 2001 and 2020, the use of mind maps and technologies to support the tool increased to personal and group learning. \n",
    "\n",
    "You can find [here](https://drive.google.com/file/d/1aP0KdsLODbQYU-URf3jeheFU4Qu4AU2j/view?usp=sharing) more of my research and sources for HCDE 419; however, these three sources were the most important for me to understand my topic and idea to pursue my own analysis. \n",
    "\n",
    "Since this analysis is an extension of another research project I have for another class, this is what informed my decision to create a quantitative study to gather more information about the topic. The sources I found to cite for that paper helped me come up with the guiding questions while looking for datasets to include. They also helped me to identify what I want to focus on, which is the technological change during COVID because there weren't many number-based technology usage before and after. The sources I could find for comparing the before and after were more qualitative on how people felt or their perception of technology growth [4]. "
   ]
  },
  {
   "cell_type": "markdown",
   "id": "47086146-3d6f-486b-b77f-929bbead749f",
   "metadata": {},
   "source": [
    "# Unknowns and dependencies: \n",
    "An unknown I have is the data on technology usage outside of 2009 and 2019-20 school year because the datasets I found had exactly what I wanted, but I couldn't find the same data for other years. This unknown could skew my data, as technology in classrooms in 2009 is very different from 2019 even if the COVID-19 pandemic had not occurred. The growing popularity of computers and the shift to fully remote learning during COVID-19 significantly increased the need for and usage of technology.\n",
    "\n",
    "On Tuesday, November 5, 2024 16:41, I emailed the Institute of Education Sciences asking if they have any more reports involving technology and education that are also closer to the time frame of the pandemic since I couldn't find them on my own. My analysis is dependent on whether they respond and if they have more data that works for what I want to do. If they do not reply, I am considering changing my idea to compare the technology changes in schools within ten years to better fit with the data I have found (which is what I did).\n",
    "\n",
    "On Wednesday, November 6, 2024, 06:28, I got a reply with other sources relating to \"education technology/technology use in K-12 schools before and after the COVID-19 pandemic.\" For the morning of Wednesday, I went through the list of sources my contact suggested to me and I came to the conclusion of <span style=\"color: red;\">not</span> using them. I came to this stance because the reports she gave were more qualitative like what I found in my research for my paper. I would much rather do a quantitative analysis because I am already doing a qualitative study for the other class. \n",
    "\n",
    "The National Center for Education Statistics’ [Condition of Education](https://nces.ed.gov/pubsearch/index.asp?PubSectionID=1&HasSearched=1&pubspagenum=1&sort=3&order=0&L1=&L2=&searchstring=condition+of+education&searchtype=AND&searchcat2=&searchcat=title&pagesize=15&searchmonth=1&searchyear=1989&datetype=%3E%3D&pubtype=&surveyname=&surveyid=&centername=NCES&center=NCES) source she suggested to me was the best alternative option to use. These reports are published yearly on the trends and statistics of all levels of education. While I am not opposed to using these papers, they either already compare education data for different years or have data from two years earlier than the publication date. For example, the newest report from 2024, look at years 2022 and earlier. \n",
    "\n",
    "Due to dependency on what each report discloses and my want to do a quantitative analysis, I will only use the sources I have written about in the section above.   "
   ]
  },
  {
   "cell_type": "markdown",
   "id": "b6158364-5a48-4962-818f-ec9a972a3cea",
   "metadata": {},
   "source": [
    "# Methodology:\n",
    "One of the sources I reviewed in the Annotated Bibliography assignment for HCDE 419, had compared two survey results with differing questions and I use this as a guide for my own analysis. Since the two datasets that I am using have slightly different questions due to the access of technology and what schools provide each year, I want to compare them based on similarity with different x-values as they differ. The datasets I want to include are listed below but subject to change as I get more familiarized with each report.\n",
    "\n",
    "- Student access to computers at school: Both datasets have either a ratio or number of computers per student which are categorized based on eligibility on free/reduced lunch, community type, and enrollment size. Since this is more similar, I may do a T-Test on this to see how significantly different it is.\n",
    "  - 2009 Dataset: Page 5 (doc-labeled) under \"Total computers (in or can be brought into the classroom), second column\"\n",
    "  - 2019-20 Dataset: Page 15 (Google Drive labeled) under \"Number of students per computer\"\n",
    "- Technology Devices Used: Each dataset has a list of what I assume should be available to use in each school and then either how teachers or schools are providing the tools to the students. This is very different between both reports and thus won't use an analysis on this but provide a graph for both years to show what was the most accessible to students.\n",
    "  - 2009 Dataset: Table 3, Page 17 (Google Drive labeled)\n",
    "  - 2019-20 Dataset: Table A-4, Page 19 (Google Drive labeled)\n",
    "  \n",
    "Looking through the reports and data in each, I have discovered the data is very hard to compare because they don't ask super similar questions. With the three datasets I have listed above, they are what I can easily compare. I also want to try and include Table 7 in the 2009 report as it has what students are using the computers for; I have not come across a similar data table in 2019-20 report to compare, but I will keep looking as well as outsource this information if it's not possible to find in the report I have. \n",
    "\n",
    "I'm not sure exactly how this will work since the data isn't exactly the same across the two reports; however I know it will work out in the end as such comparisons have happened before. I just need to make sure the results I get are clear that the starting data was different because of the differing years. \n",
    "\n",
    "As for presenting my findings, I am thinking along the lines of bar charts to show the amount of technology from 2009 and 2019-20. I have grown to learn that they are the best way to show a comparison between differing data. I am still grappling with the idea of adding error bars or showing more of the distribution of the analysis. I think this will be included if my results require more information in conveying what my takeaways are. \n",
    "\n",
    "I chose these methods because it has seemed to work in the past when comparing slightly different data as I am dealing with. Secondly, as I said, I believe bar charts are the easiest way to see how such data is different in a quick glance and then more understanding happens the more time looking at it. "
   ]
  },
  {
   "cell_type": "markdown",
   "id": "7a7d658a-6200-4d34-a867-c30004522309",
   "metadata": {},
   "source": [
    "# Findings\n",
    "\n",
    "You can follow my entire analysis and findings in ``Analysis.ipynb``.\n",
    "\n",
    "The overview of it was that there was a significant difference between the ratios of students to computers in 2009 and 2019-20 school years. In 2009, there was about a 1.7 ratio whereas there was a 1.1 ratio for 2019. I created a diagram in Figma to better show this ratio, rounding up or down the number. \n",
    "\n",
    "There was no overlap of technologies used in schools in 2009 and 2019-20. However, it was interesting to see that in 2009, the technology used was more beneficial in a teacher-centered class, such a projector. In 2019-20, the technology seems to be more centered around students, such as online materials and textbooks. \n",
    "\n",
    "As I mentioned in ``Analysis.ipynb``, I was going to do two other comparisons, but due to the differences of the reports, I couldn't figure out how to compare such different results. Instead, I completed two separate visualizations of each report. For 2009, I looked at the top five technologies that teachers use with their students and for 2019, I looked at the difference of technology access between elementary, middle, and high school grades.  "
   ]
  },
  {
   "cell_type": "markdown",
   "id": "8be0314b-0458-4f02-be6c-78c58a984857",
   "metadata": {},
   "source": [
    "# Discussion and Conclusion\n",
    "\n",
    "Reading the Introduction for both reports, I found that in 2009, they sent the survey out to 4,133 teachers in the United States and got replies from around 80% (3,306) of the teachers. For the 2019 report, they sent out the survey to 1,300 public schools in the United States but did not say how many replied back. I also learned that in 2009, technology was not explicitly labeled as what they considered a computer, but it included all that was in the classroom and what could be brought in. In 2019, they explicitly labeled technology as desktops, laptops, and tablet computers, such as Chromebooks and iPads (personal phones were not included in the label of computers).\n",
    "\n",
    "I explain my findings and examination of them in ``Analysis.ipynb`` as it made more sense to me to write out my thoughts while looking at the data. Here, I will again, summarize what I concluded. \n",
    "\n",
    "I first wanted to see if there was any significance to the differences in the student to computer ratios between the two years. As I was inputting the data, I didn't see that big of a difference and thought there wasn't a significance; however, given the analysis, I got back a really high T-Test and a low P-value. This means that there is a substantial difference between 2009 and 2019 ratios with a very small chance that the difference is due to random chance. As I looked back at the data, I realized that this is correct as normal T-Test analysis has more numbers to compare then just one average number per category. With this limitation, I am not sure how it would have changed had I gotten the raw data the Institute of Education Sciences' received in the survey results. \n",
    "\n",
    "I also was surprised by the ratios once I really understood what they meant. In 2009, for all public schools, there was a 1.7:1 ratio of student to computer, meaning there was a little less than 2 students per computer. Whereas in 2019, there was a 1:1 ratio, showing that every kid has their own computer to work on. \n",
    "\n",
    "As for the different technologies used in 2009 and 2019, there was no overlap. I think this is due to the limited data I found and how the reports ask different questions to different people between the two years. The 2009 report had all public school teachers surveyed in the US while in 2019 only one person (the expert in technology in the school) answered. Had this not been a limitation this would have been a cool comparison to see what technologies are being used now compared to ten years prior. However, this brings up an interesting point that technology has changed so much in those ten years that the technology used now isn't available in 2009 or vice versa. Given what the questions asked, I hold the assumption that the technology in 2009, such as projectors, document cameras, and interactive whiteboards, are so ingrained in the classrooms in 2019 that researchers don't want to know the usage of them because it's assumed they already do. They want to know more about the new technology, such as online textbooks and the differences between interactive and click-though textbooks. This information is probably more helpful given the pandemic that occurred that school year and the technology used in 2009 wasn't as helpful as everyone was online and not in a large classroom. \n",
    "\n",
    "Lastly, due to the limitations of the reports not being identical in questions and participants, I created two separate visualizations to analyze. For 2009, I found that word processing software, the internet, managing student records, making presentations, and spreadsheets were the most used technology used by students and teachers. I find it interesting that these were part of the options in the first place as in 2024, these are so common in education and daily lives that I don't think about how much I use them. It's also cool to think that in 2009, word processing softwares were used the most and, from my own experience, still used a lot in academia today. \n",
    "\n",
    "My visualization for 2019 was the distribution of computer use in schools divided by school level. I found this rather interesting that older kids were more likely to carry their own computers whereas in elementary kids had access to computers but were stationary in the classrooms. As I think about it now, that's how elementary school works: 20-30 kids are in the same classroom every day for a year, so the computer doesn't have to move around to be accessible. As for middle school and high school, students move throughout the day to different classes and it's seen as better for them to have technology with them. I wonder why schools change the access this way for older kids as computers could be in every middle or high school classroom and still give students access to them. \n",
    "\n",
    "The next steps may be to have a yearly numerical report that recruits the same participants and have the same questions to better compare the school year and their integration of technology. This could be a shorter survey with a section that is designated to that year of different questions from the previous years to see the actual change per year. "
   ]
  },
  {
   "cell_type": "markdown",
   "id": "95552248-a91c-455b-8124-128eb71538a6",
   "metadata": {},
   "source": [
    "# Endnotes:\n",
    "1. [National Center for Education Statistics’ Condition of Education Yearly Reports](https://nces.ed.gov/pubsearch/index.asp?PubSectionID=1&HasSearched=1&pubspagenum=1&sort=3&order=0&L1=&L2=&searchstring=condition+of+education&pagesize=100&searchtype=AND&searchcat2=&searchcat=title&searchmonth=1&searchyear=1989&datetype=ge&pubtype=&surveyname=&surveyid=&centername=NCES&center=NCES)\n",
    "2. Dubé, Adam Kenneth, and Run Wen. “Identification and evaluation of technology trends in K-12\n",
    "education from 2011 to 2021.” Education and Information Technologies, vol. 27, no. 2, 6\n",
    "Aug. 2021, pp. 1929–1958, https://doi.org/10.1007/s10639-021-10689-8.\n",
    "3. Chang, C.-C., Hwang, G.-J., & Tu, Y.-F. (2022). Concept mapping in technology-supported K-12\n",
    "education: A systematic review of selected SSCI publications from 2001 to 2020. Journal\n",
    "of Educational Computing Research, 60(7), 1637–1662.\n",
    "https://doi.org/10.1177/07356331211073798\n",
    "4. [Annotated Bibliography for HCDE 419](https://drive.google.com/file/d/1aP0KdsLODbQYU-URf3jeheFU4Qu4AU2j/view?usp=sharing)\n",
    "5. ChatGPT Questions and Answers (used only for clarifying questions and analysis code)"
   ]
  }
 ],
 "metadata": {
  "kernelspec": {
   "display_name": "Python 3 (ipykernel)",
   "language": "python",
   "name": "python3"
  },
  "language_info": {
   "codemirror_mode": {
    "name": "ipython",
    "version": 3
   },
   "file_extension": ".py",
   "mimetype": "text/x-python",
   "name": "python",
   "nbconvert_exporter": "python",
   "pygments_lexer": "ipython3",
   "version": "3.10.13"
  }
 },
 "nbformat": 4,
 "nbformat_minor": 5
}
