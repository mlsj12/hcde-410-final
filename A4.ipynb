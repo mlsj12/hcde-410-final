{
 "cells": [
  {
   "cell_type": "markdown",
   "id": "fc3982b1-78b2-4ca1-8d73-620bb661c3bd",
   "metadata": {},
   "source": [
    "# Motivation and problem statement: \n",
    "### What are the changes in technology use in schools from 2009 to 2019-2020 school year (COVID)?\n",
    "\n",
    "For my final project in HCDE 419 I am writing a prediction piece for the future of K-12 education and technology. To further my understanding of how technology has changed, especially after the COVID-19 pandemic, moving everything online, I want to conduct my **own** analysis comparing the technology use in schools in the past ten years. This analysis should enhance my knowledge of the technological changes in education.\n",
    "\n",
    "This analysis will be particularly interesting as the second data set is from a major transformation in education, COVID-19 and the shift to online learning. I remember middle school doing problems on paper and my first year of high school, before COVID-19, the school had shifted to using Desmos slides to teach. Because of this, there was already more educational technology being used before the pandemic, and I want to see what the difference is between the two and how COVID impacted technology use in schools throughout the school year.\n",
    "\n",
    "I hope to learn how ten years of technology advancements have changed education and the way people learn or teach. This could reveal trends in how digital tools influenced student engagement, accessibility, and learning outcomes, and provide insight on future pathways of education. I'm fairly certain there was more technology use in the 2019-2020 school year because I lived through those years in school; however I don't know just how much or little it changed education. "
   ]
  },
  {
   "cell_type": "markdown",
   "id": "60bd7f74-dffc-4279-8f7f-275392f31c2f",
   "metadata": {},
   "source": [
    "# Data selected for analysis: \n",
    "\n",
    "I am going to use the Institute of Education Sciences' reports on educational technology for the years of 2009 and 2019-20. These were the only two datasets that made sense to me that also had technology usage in schools within the time frame I wanted. I wanted to research something more specific, and these two reports were the closest I could find that I also had free access to:\n",
    "\n",
    "- [Teachers’ Use of Educational Technology in U.S. Public Schools: 2009](https://nces.ed.gov/pubs2010/2010040.pdf)\n",
    "- [Use of Educational Technology for Instruction in Public Schools: 2019—20](https://nces.ed.gov/pubs2021/2021017.pdf)\n",
    "\n",
    "License for both reports found on their copyright page:<br> \n",
    "\"NCES activities are designed to address high-priority education data needs; provide consistent, reliable, complete, and accurate indicators of education status and trends; and report timely, useful, and high-quality data to the U.S. Department of Education, the Congress, the states, other education policymakers, practitioners, data users, and the general public. **Unless specifically noted, all information contained herein is in the public domain.**\"\n",
    "\n",
    "As mentioned above, these datasets are what I could under my specific research goals and since I was able to find a dataset from before and during the COVID-19 I can accomplish my goal of comparing pre-pandemic and post-pandemic times of technology use. From my look-through of the two reports, the questions are not exact same, they account for what technology was accessible in each respective year. I think this would increase my ability to see the differences between technology usage in school and what was possible in the two different school years. The 2009 report is done through the teachers perspective, such as how the teacher providing technology to students: \"*Percent of teachers with computers...*\" while the 2019-20 report is based on the school perspective: \"*Percent of public schools reporting...*\" \n",
    "\n",
    "I can think of one ethical concern could be the accuracy of the 2009 report as it has a lot of different aspects of technology within schools. As I mentioned above, the questions weren't the exact same either because of what was possible in the different school years. These reports are also just for public schools/teachers, which could skew the data without private K-12 education and their access to technology throughout the years. \n"
   ]
  },
  {
   "cell_type": "markdown",
   "id": "47086146-3d6f-486b-b77f-929bbead749f",
   "metadata": {},
   "source": [
    "# Unknowns and dependencies: \n",
    "An unknown I have is the data on technology usage outside of 2009 and 2019-20 school year because these datasets are what I could find. This unknown could skew my data, as technology in classrooms in 2009 is very different from 2019. The growing popularity of computers and the shift to fully remote learning during COVID-19 significantly increased the need for and usage of technology.\n",
    "\n",
    "On Tuesday, November 5, 2024 16:41, I emailed the Institute of Education Sciences asking if they have any more reports that are closer in the time frame of the pandemic since I couldn't find them on my own. My analysis is dependent on whether they respond and if they have more data that works for what I want to do. If they do not reply, I am considering to change my idea to compare the technology changes in schools within ten years to better fit with the data I have found.\n",
    "\n",
    "On Wednesday, November 6, 2024, 06:28, I got a reply with other sources relating to \"education technology/technology use in K-12 schools before and after the COVID-19 pandemic.\" For the morning of Wednesday, I went through the list of sources my contact suggested to me and I came to the conclusion of <span style=\"color: red;\">not</span> using them. I came to this stance because the reports she gave were more qualitative. I would much rather do a quantitative analysis because I am already doing a qualitative in my other class. \n",
    "\n",
    "The National Center for Education Statistics’ [Condition of Education](https://nces.ed.gov/pubsearch/index.asp?PubSectionID=1&HasSearched=1&pubspagenum=1&sort=3&order=0&L1=&L2=&searchstring=condition+of+education&searchtype=AND&searchcat2=&searchcat=title&pagesize=15&searchmonth=1&searchyear=1989&datetype=%3E%3D&pubtype=&surveyname=&surveyid=&centername=NCES&center=NCES) source she suggested to me was the best alternative option to use. These reports are published yearly on the trends and statistics of all levels of education. While I am not opposed to using these papers, they either already compare education data for different years or have data from two years earlier than the publication date. For example, the newest report from 2024, look at years 2023 and earlier. \n",
    "\n",
    "Due to dependency on what each report discloses and my want to do a quantitative analysis, I may have to only use the sources I have written about in the section above.   "
   ]
  }
 ],
 "metadata": {
  "kernelspec": {
   "display_name": "Python 3 (ipykernel)",
   "language": "python",
   "name": "python3"
  },
  "language_info": {
   "codemirror_mode": {
    "name": "ipython",
    "version": 3
   },
   "file_extension": ".py",
   "mimetype": "text/x-python",
   "name": "python",
   "nbconvert_exporter": "python",
   "pygments_lexer": "ipython3",
   "version": "3.10.13"
  }
 },
 "nbformat": 4,
 "nbformat_minor": 5
}
